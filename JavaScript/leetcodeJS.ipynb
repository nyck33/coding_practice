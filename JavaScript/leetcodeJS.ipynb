{
 "cells": [
  {
   "cell_type": "code",
   "execution_count": null,
   "id": "4d1c71bb",
   "metadata": {},
   "outputs": [],
   "source": []
  },
  {
   "cell_type": "markdown",
   "id": "eb64f45c",
   "metadata": {},
   "source": [
    "# LinkedList Challenge"
   ]
  },
  {
   "cell_type": "code",
   "execution_count": 5,
   "id": "37067e61",
   "metadata": {},
   "outputs": [],
   "source": [
    "function ListNode(val, next) {\n",
    "      this.val = (val===undefined ? 0 : val)\n",
    "      this.next = (next===undefined ? null : next)\n",
    "}"
   ]
  },
  {
   "cell_type": "code",
   "execution_count": 6,
   "id": "19d8a678",
   "metadata": {},
   "outputs": [],
   "source": [
    "/**\n",
    " * Definition for singly-linked list.\n",
    " * function ListNode(val, next) {\n",
    " *     this.val = (val===undefined ? 0 : val)\n",
    " *     this.next = (next===undefined ? null : next)\n",
    " * }\n",
    " */\n",
    "/**\n",
    " * @param {ListNode} l1\n",
    " * @param {ListNode} l2\n",
    " * @return {ListNode}\n",
    " */\n",
    "var addTwoNumbers = function(l1, l2) {\n",
    "    \n",
    "    var arr1 = [];\n",
    "    var arr2 = [];\n",
    "    var count = 0\n",
    "    var node1;\n",
    "    var node2;\n",
    "    var val1;\n",
    "    var val2;\n",
    "    var numStr1;\n",
    "    var numStr2;\n",
    "    var num1;\n",
    "    var num2;\n",
    "    \n",
    "    while (true){\n",
    "        //l1 or l2 could be null to begin with\n",
    "        if (count == 0){\n",
    "            if (l1 != null){\n",
    "                val1 = l1.val\n",
    "            }\n",
    "            if (l2 != null){\n",
    "                val2 = l2.val\n",
    "            }\n",
    "            \n",
    "            console.log(val1,val2)\n",
    "        }\n",
    "        else{\n",
    "            l1 = l1.next\n",
    "            l2 = l2.next\n",
    "            if ((l1 == null) && (l2 == null)){\n",
    "                break;\n",
    "            }\n",
    "            else{\n",
    "                if (l1 != null){\n",
    "                    val1 = l1.val\n",
    "                }\n",
    "                if (l2 != null){\n",
    "                    val2 = l2.val\n",
    "                }\n",
    "            }\n",
    "        }\n",
    "        console.log(val1, val2)\n",
    "        \n",
    "        arr1.push(val1)\n",
    "        arr2.push(val2)\n",
    "        count ++;\n",
    "    }\n",
    "    //rev lists\n",
    "    arr1.reverse();\n",
    "    arr2.reverse();\n",
    "    //make strings\n",
    "    for (let x of arr1){numStr1 += x;}\n",
    "    for (let y of arr2){numStr2 += y;}\n",
    "    //conver to ints\n",
    "    num1 = parseInt(numStr1)\n",
    "    num2 = parseInt(numStr2)\n",
    "    \n",
    "    var ans = num1 + num2\n",
    "    ans = ans.toString()\n",
    "    ans = ans.split('')\n",
    "    \n",
    "    //reverse list\n",
    "    ans = ans.reverse()\n",
    "    \n",
    "    //make linked list\n",
    "    var dummyHead = new ListNode(0);\n",
    "    curr = dummyHead;\n",
    "    for (let x of ans){\n",
    "        curr.next = new ListNode(x);\n",
    "        curr = curr.next\n",
    "    }\n",
    "    \n",
    "    \n",
    "    return dummyHead.next;\n",
    "    \n",
    "};"
   ]
  },
  {
   "cell_type": "code",
   "execution_count": null,
   "id": "efcb6145",
   "metadata": {},
   "outputs": [],
   "source": [
    "// function to make linked lists\n",
    "var makeLinkedList = function(someL){\n",
    "    var headNode = ListNode(0, null)\n",
    "    //reference pointer of type ListNode\n",
    "    var prev = Listnode(null, null)\n",
    "    for (i=0; i < l1.length-1; i++){\n",
    "    if(i==0){\n",
    "        headNode.val = arr[i]\n",
    "        var nextNode = ListNode(arr[i+1], null)\n",
    "        headNode.next = nextNode\n",
    "        prev = nextNode\n",
    "    }\n",
    "    else{\n",
    "        var nextNode = ListNode(arr[i+1], null)\n",
    "        prev.next = nextNode\n",
    "        prev = nextNode\n",
    "    }\n",
    "}\n",
    "\n",
    "}"
   ]
  },
  {
   "cell_type": "code",
   "execution_count": 4,
   "id": "343d942a",
   "metadata": {},
   "outputs": [
    {
     "name": "stdout",
     "output_type": "stream",
     "text": [
      "undefined undefined\n",
      "undefined undefined\n",
      "[ 'N', 'a', 'N' ]\n"
     ]
    }
   ],
   "source": [
    "/*\n",
    "Input: l1 = [2,4,3], l2 = [5,6,4]\n",
    "Output: [7,0,8]\n",
    "Explanation: 342 + 465 = 807\n",
    "*/\n",
    "const l1 = [2,4,3]\n",
    "const l2 = [5,6,4]\n",
    "\n",
    "\n",
    "\n",
    "\n",
    "ans = addTwoNumbers(l1, l2)\n",
    "console.log(ans)\n",
    "\n"
   ]
  },
  {
   "cell_type": "markdown",
   "id": "515e8f5a",
   "metadata": {},
   "source": [
    "# 3 Longest Substring without Repeating Chars"
   ]
  },
  {
   "cell_type": "markdown",
   "id": "38e7a760",
   "metadata": {},
   "source": [
    "### Dynamic Programming\n",
    "Table\n",
    "T(i,j) = length of substring with no repetition from S(i) to S(j)<br>\n",
    "idx: 12345678<br>\n",
    "seq: abcabcbb<br>\n",
    "  T: 12312311<br>\n",
    "\n",
    "Recurrence:<br>\n",
    "T(i,j) = max(T(i,j-1)+1, T(i-1,j)+1) if S(i)!=S(j)<br>\n",
    "else: T(i,j) = 1 //substring <br>\n",
    "\n",
    "Pseudocode:<br>\n",
    "same and return max(T)"
   ]
  },
  {
   "cell_type": "code",
   "execution_count": 35,
   "id": "6f10ccff",
   "metadata": {},
   "outputs": [],
   "source": [
    "/**\n",
    " * @param {string} s\n",
    " * @return {number}\n",
    " */\n",
    "var lengthOfLongestSubstring = function(s) {\n",
    "    //empty string\n",
    "    if (s.length <= 0){\n",
    "        return 0\n",
    "    }\n",
    "    //initialize dict\n",
    "    var letters_d = {};\n",
    "    //initialize table T and base case\n",
    "    var T = new Array(s.length);\n",
    "    T[0] = 1;\n",
    "    //put base case in dict\n",
    "    letters_d[s[0]]=0;\n",
    "    for (var i=1; i < s.length; i++){\n",
    "        var curr_alpha = s.charAt(i);\n",
    "        //letter is repeated\n",
    "        if (curr_alpha in letters_d){\n",
    "            //console.log(\"here\")\n",
    "            seq_start = letters_d[curr_alpha]\n",
    "            //update all dict's idx's\n",
    "            //\"abba\" need to update first a's idx\n",
    "            for (var prev_alpha in letters_d){\n",
    "                var idx = letters_d[prev_alpha];\n",
    "                if (idx < seq_start){\n",
    "                    letters_d[prev_alpha] = seq_start;\n",
    "                }\n",
    "            }\n",
    "            seq_len = i - seq_start;\n",
    "            //console.log(i, seq_start);\n",
    "            T[i] = seq_len;\n",
    "            letters_d[curr_alpha] = i; \n",
    "        }\n",
    "        else{\n",
    "            //letter not repeated\n",
    "            T[i] = T[i-1] + 1;\n",
    "            letters_d[curr_alpha] = i;\n",
    "        }\n",
    "        //console.log(T, letters_d)\n",
    "    }\n",
    "    //iterate each row to get max\n",
    "    //var high = Number.MIN_SAFE_INTEGER;\n",
    "    var high = Math.max(...T);\n",
    "    //console.log(T, letters_d,high)\n",
    "    \n",
    "    return high;\n",
    "    \n",
    "};\n",
    "\n"
   ]
  },
  {
   "cell_type": "code",
   "execution_count": 36,
   "id": "592c2602",
   "metadata": {},
   "outputs": [
    {
     "name": "stdout",
     "output_type": "stream",
     "text": [
      "len of longest: 3\n"
     ]
    }
   ],
   "source": [
    "/*Input: s = \"abcabcbb\"\n",
    "Output: 3\n",
    "Explanation: The answer is \"abc\", with the lengthOfLongestSubstring of 3.\n",
    "*/\n",
    "//s = \"abcabcbb\";\n",
    "s = \"dvdf\"\n",
    "var high = lengthOfLongestSubstring(s);\n",
    "console.log('len of longest:', high);"
   ]
  },
  {
   "cell_type": "code",
   "execution_count": 44,
   "id": "013b41dd",
   "metadata": {},
   "outputs": [
    {
     "name": "stdout",
     "output_type": "stream",
     "text": [
      "[ [ 1, 0, 0, 0 ], [ 0, 1, 0, 0 ], [ 0, 0, 1, 0 ], [ 0, 0, 0, 1 ] ]\n"
     ]
    }
   ],
   "source": [
    "//initialize 2D table T\n",
    "var T = new Array(s.length)\n",
    "for (var i = 0; i<s.length; i++){\n",
    "    T[i] = new Array(s.length);\n",
    "}\n",
    "\n",
    "//base cases are diagonals\n",
    "for (var i = 0; i < T.length; i++){\n",
    "    for (var j=0; j<T.length; j++){\n",
    "        if(i==j){\n",
    "            T[i][j] = 1;\n",
    "        }\n",
    "        else{\n",
    "            T[i][j] = 0;\n",
    "        }\n",
    "    }\n",
    "}\n",
    "console.log(T)"
   ]
  },
  {
   "cell_type": "code",
   "execution_count": null,
   "id": "042d6db4",
   "metadata": {},
   "outputs": [],
   "source": []
  }
 ],
 "metadata": {
  "kernelspec": {
   "display_name": "Javascript (Node.js)",
   "language": "javascript",
   "name": "javascript"
  },
  "language_info": {
   "file_extension": ".js",
   "mimetype": "application/javascript",
   "name": "javascript",
   "version": "10.19.0"
  }
 },
 "nbformat": 4,
 "nbformat_minor": 5
}
