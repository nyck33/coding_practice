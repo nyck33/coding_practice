{
 "cells": [
  {
   "cell_type": "code",
   "execution_count": null,
   "id": "03c6d8e5",
   "metadata": {},
   "outputs": [],
   "source": [
    "'''\n",
    "Shots from (0,0) so divide into quadrants\n",
    "ne = 1, nw = 2, sw = 3, se =4\n",
    "\n",
    "'''"
   ]
  },
  {
   "cell_type": "code",
   "execution_count": 1,
   "id": "5aae8c81",
   "metadata": {},
   "outputs": [],
   "source": [
    "# imports\n",
    "import copy\n",
    "import numpy as np\n"
   ]
  },
  {
   "cell_type": "code",
   "execution_count": 5,
   "id": "4573b48a",
   "metadata": {},
   "outputs": [],
   "source": [
    "def get_quadrant_stuff(stuff_arrs, pos='ne'):\n",
    "    \"\"\"\n",
    "    ne includes origin, \n",
    "    nw includes any on x-axis, ie. y=0\n",
    "    return list of tuples for each quad\n",
    "    \"\"\"\n",
    "    ne, nw, sw, se = [], [], [], []\n",
    "    for thing in stuff_arrs:\n",
    "        x = thing[0]\n",
    "        y = thing[1]\n",
    "        if x >=0 and y >=0:\n",
    "            ne.append((x,y))\n",
    "        elif x<0 and y>=0:\n",
    "            nw.append((x,y))\n",
    "        elif x<0 and y<0:\n",
    "            sw.append((x,y))\n",
    "        else:\n",
    "            se.append((x,y))\n",
    "    \n",
    "    return ne,nw,sw,se\n",
    "            \n",
    "            \n",
    "            "
   ]
  },
  {
   "cell_type": "code",
   "execution_count": 6,
   "id": "b965d29c",
   "metadata": {},
   "outputs": [],
   "source": [
    "def on_shot_line(monsters, shots):\n",
    "    \"\"\"\n",
    "    shots extend beyond the coord given\n",
    "    find which shots hit monsters in the quad\n",
    "    corner: 2 monster on same line, closer monster takes hit\n",
    "            2 shots could be on same line\n",
    "    lay down shot line, eliminate the nearest monster\n",
    "    return list of kills and list of remaining monsters\n",
    "    \"\"\"\n",
    "    \n",
    "    pass"
   ]
  },
  {
   "cell_type": "code",
   "execution_count": null,
   "id": "12810387",
   "metadata": {},
   "outputs": [],
   "source": [
    "def "
   ]
  },
  {
   "cell_type": "code",
   "execution_count": 7,
   "id": "d9f63502",
   "metadata": {},
   "outputs": [],
   "source": [
    "def calc_monsters_dead(monsters, bullets):\n",
    "    ne_mons, nw_mons, sw_mons, se_mons = get_quadrant_stuff(monsters)\n",
    "    quad_mons = [ne_mons, nw_mons, sw_mons, se_mons]\n",
    "    ne_shots,nw_shots,sw_shots,se_shots = get_quadrant_stuff(bullets)\n",
    "    quad_shots = [ne_shots, nw_shots, sw_shots, se_shots]\n",
    "    \n",
    "    for i in range(len(quad_mons)):\n",
    "        curr_mons = quad_mons[i]\n",
    "        curr_shots = quad_shots[i]\n",
    "        \n",
    "    \n",
    "    \n",
    "    \n",
    "    \n",
    "    "
   ]
  },
  {
   "cell_type": "code",
   "execution_count": 3,
   "id": "2566b67f",
   "metadata": {},
   "outputs": [],
   "source": []
  },
  {
   "cell_type": "code",
   "execution_count": 4,
   "id": "6c347672",
   "metadata": {},
   "outputs": [],
   "source": []
  },
  {
   "cell_type": "code",
   "execution_count": null,
   "id": "da42245b",
   "metadata": {},
   "outputs": [],
   "source": []
  },
  {
   "cell_type": "code",
   "execution_count": 2,
   "id": "eb87ef80",
   "metadata": {},
   "outputs": [],
   "source": [
    "#monsters\n",
    "#bullets\n",
    "#answer\n",
    "\n",
    "monsters = [[2,3],[4,5],[3,-3],[2,-4],[3,-6],\n",
    "            [-3,-3],[-5,0],[-4,4]]\n",
    "bullets = [[4,1],[4,6],[1,-2],[-4,-4],\n",
    "           [-3,0],[-4,4]]\n",
    "#5\n",
    "monsters = [[-4,4],[-2,2],[6,2],[0,-2]]\n",
    "bullets = [[3,1],[-1,1],[-1,1],[0,-4],[2,-3]]\n",
    "#4\n",
    "monsters = [[1,2],[-2,-1],[1,-2],[3,-1]]\n",
    "bullets = [[1,0],[2,1]]\n",
    "#-1\n"
   ]
  },
  {
   "cell_type": "code",
   "execution_count": null,
   "id": "1fe32c7c",
   "metadata": {},
   "outputs": [],
   "source": []
  }
 ],
 "metadata": {
  "kernelspec": {
   "display_name": "Python 3",
   "language": "python",
   "name": "python3"
  },
  "language_info": {
   "codemirror_mode": {
    "name": "ipython",
    "version": 3
   },
   "file_extension": ".py",
   "mimetype": "text/x-python",
   "name": "python",
   "nbconvert_exporter": "python",
   "pygments_lexer": "ipython3",
   "version": "3.6.13"
  }
 },
 "nbformat": 4,
 "nbformat_minor": 5
}
