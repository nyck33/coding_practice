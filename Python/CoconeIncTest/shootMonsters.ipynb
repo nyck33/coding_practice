{
 "cells": [
  {
   "cell_type": "code",
   "execution_count": null,
   "id": "03c6d8e5",
   "metadata": {},
   "outputs": [],
   "source": [
    "'''\n",
    "Shots from (0,0) so divide into quadrants\n",
    "ne = 1, nw = 2, sw = 3, se =4\n",
    "\n",
    "'''"
   ]
  },
  {
   "cell_type": "code",
   "execution_count": 8,
   "id": "5aae8c81",
   "metadata": {},
   "outputs": [],
   "source": [
    "# imports\n",
    "import copy\n",
    "import numpy as np\n"
   ]
  },
  {
   "cell_type": "code",
   "execution_count": 9,
   "id": "1fa1b59f",
   "metadata": {},
   "outputs": [
    {
     "name": "stdout",
     "output_type": "stream",
     "text": [
      "[[2, 3], [2, -4], [3, -3], [3, -6], [-3, -3], [4, 5], [-4, 4], [-5, 0]]\n"
     ]
    }
   ],
   "source": [
    "# test cell\n",
    "monsters = [[2,3],[4,5],[3,-3],[2,-4],[3,-6],\n",
    "            [-3,-3],[-5,0],[-4,4]]\n",
    "bullets = [[4,1],[4,6],[1,-2],[-4,-4],\n",
    "           [-3,0],[-4,4]]\n",
    "mons_sorted = sorted(monsters, key=lambda x: np.abs(x[0]))\n",
    "print(mons_sorted)"
   ]
  },
  {
   "cell_type": "code",
   "execution_count": 10,
   "id": "4573b48a",
   "metadata": {},
   "outputs": [],
   "source": [
    "def get_quadrant_stuff(stuff_arrs, pos='ne'):\n",
    "    \"\"\"\n",
    "    ne includes origin, \n",
    "    nw includes any on x-axis, ie. y=0\n",
    "    return list of tuples for each quad\n",
    "    \"\"\"\n",
    "    ne, nw, sw, se = [], [], [], []\n",
    "    for thing in stuff_arrs:\n",
    "        x = thing[0]\n",
    "        y = thing[1]\n",
    "        if x >=0 and y >=0:\n",
    "            ne.append((x,y))\n",
    "        elif x<0 and y>=0:\n",
    "            nw.append((x,y))\n",
    "        elif x<0 and y<0:\n",
    "            sw.append((x,y))\n",
    "        else:\n",
    "            se.append((x,y))\n",
    "    \n",
    "    return ne,nw,sw,se\n",
    "            \n",
    "            \n",
    "            "
   ]
  },
  {
   "cell_type": "code",
   "execution_count": 14,
   "id": "e7400475",
   "metadata": {},
   "outputs": [],
   "source": [
    "def delete_killed(curr_mon, monsters):\n",
    "    new_monsters = []\n",
    "    for mon in monsters:\n",
    "        if mon is not curr_mon:\n",
    "            new_monsters.append(mon)\n",
    "    return new_monsters"
   ]
  },
  {
   "cell_type": "code",
   "execution_count": 15,
   "id": "b965d29c",
   "metadata": {},
   "outputs": [],
   "source": [
    "def get_kills(monsters, shots):\n",
    "    \"\"\"\n",
    "    shots extend beyond the coord given\n",
    "    find which shots hit monsters in the quad\n",
    "    corner: 2 monster on same line, closer monster takes hit\n",
    "            2 shots could be on same line\n",
    "    lay down shot line, eliminate the nearest monster\n",
    "    return list of kills and list of remaining monsters\n",
    "    \"\"\"\n",
    "    killed, remaining = [], []\n",
    "    mon_slope, shot_slope = 0,0\n",
    "    # sort monsters from lower x and y to higher(further)\n",
    "    mons_sorted = sorted(monsters, key=lambda x: np.abs(x[0]))\n",
    "    shots_sorted = sorted(shots, key=lambda x: np.abs(x[0]))\n",
    "    # get line of shots, compare to mons_sorted, sort into kills and alive\n",
    "    for i in range(len(shots_sorted)):\n",
    "        curr_shot = shots_sorted[i]\n",
    "        x, y = curr_shot\n",
    "        if x >0:\n",
    "            shot_slope = y/x\n",
    "        else:\n",
    "            shot_slope = 0\n",
    "        for j in range(len(mons_sorted)):\n",
    "            curr_mon = mons_sorted[j]\n",
    "            mon_x, mon_y = curr_mon\n",
    "            if x>0:\n",
    "                mon_slope = y/x\n",
    "            else:\n",
    "                mon_slope = 0\n",
    "            if mon_slope == shot_slope:\n",
    "                # kill but can only kill one\n",
    "                killed.append(curr_mon)\n",
    "                #todo: prevent double counting of kills delete curr_mon from list\n",
    "                mons_sorted = delete_killed(curr_mon, mons_sorted)\n",
    "                break\n",
    "    # list of tuples of killed mons (x,y)\n",
    "    return killed\n",
    "            "
   ]
  },
  {
   "cell_type": "code",
   "execution_count": null,
   "id": "12810387",
   "metadata": {},
   "outputs": [],
   "source": []
  },
  {
   "cell_type": "code",
   "execution_count": 16,
   "id": "d9f63502",
   "metadata": {},
   "outputs": [],
   "source": [
    "def main(monsters, bullets):\n",
    "    ne_mons, nw_mons, sw_mons, se_mons = get_quadrant_stuff(monsters)\n",
    "    quad_mons = [ne_mons, nw_mons, sw_mons, se_mons]\n",
    "    ne_shots,nw_shots,sw_shots,se_shots = get_quadrant_stuff(bullets)\n",
    "    quad_shots = [ne_shots, nw_shots, sw_shots, se_shots]\n",
    "    # list of lists of kills from each quadrant\n",
    "    all_kills = []\n",
    "    for i in range(len(quad_mons)):\n",
    "        curr_mons = quad_mons[i]\n",
    "        curr_shots = quad_shots[i]\n",
    "        curr_kills = get_kills(curr_mons, curr_shots)\n",
    "        if len(curr_kills) > 0:\n",
    "            all_kills.append(curr_kills)\n",
    "    \n",
    "    # count kills\n",
    "    if len(all_kills) <=0:\n",
    "        print(\"no monsters killed\")\n",
    "        return -1\n",
    "    num_kills = 0\n",
    "    for j in range(len(all_kills)):\n",
    "        quad_kills = all_kills[j]\n",
    "        num_kills += len(quad_kills)\n",
    "        \n",
    "    return num_kills\n",
    "    \n",
    "    \n",
    "    "
   ]
  },
  {
   "cell_type": "code",
   "execution_count": 3,
   "id": "2566b67f",
   "metadata": {},
   "outputs": [],
   "source": []
  },
  {
   "cell_type": "code",
   "execution_count": 4,
   "id": "6c347672",
   "metadata": {},
   "outputs": [],
   "source": []
  },
  {
   "cell_type": "code",
   "execution_count": null,
   "id": "da42245b",
   "metadata": {},
   "outputs": [],
   "source": []
  },
  {
   "cell_type": "code",
   "execution_count": 17,
   "id": "eb87ef80",
   "metadata": {},
   "outputs": [
    {
     "name": "stdout",
     "output_type": "stream",
     "text": [
      "6\n",
      "4\n",
      "1\n"
     ]
    }
   ],
   "source": [
    "#monsters\n",
    "#bullets\n",
    "#answer\n",
    "\n",
    "monsters = [[2,3],[4,5],[3,-3],[2,-4],[3,-6],\n",
    "            [-3,-3],[-5,0],[-4,4]]\n",
    "bullets = [[4,1],[4,6],[1,-2],[-4,-4],\n",
    "           [-3,0],[-4,4]]\n",
    "print(main(monsters, bullets))\n",
    "#5\n",
    "monsters = [[-4,4],[-2,2],[6,2],[0,-2]]\n",
    "bullets = [[3,1],[-1,1],[-1,1],[0,-4],[2,-3]]\n",
    "print(main(monsters, bullets))\n",
    "\n",
    "#4\n",
    "monsters = [[1,2],[-2,-1],[1,-2],[3,-1]]\n",
    "bullets = [[1,0],[2,1]]\n",
    "print(main(monsters, bullets))\n",
    "\n",
    "#-1\n"
   ]
  },
  {
   "cell_type": "code",
   "execution_count": null,
   "id": "1fe32c7c",
   "metadata": {},
   "outputs": [],
   "source": []
  }
 ],
 "metadata": {
  "kernelspec": {
   "display_name": "Python 3",
   "language": "python",
   "name": "python3"
  },
  "language_info": {
   "codemirror_mode": {
    "name": "ipython",
    "version": 3
   },
   "file_extension": ".py",
   "mimetype": "text/x-python",
   "name": "python",
   "nbconvert_exporter": "python",
   "pygments_lexer": "ipython3",
   "version": "3.6.13"
  }
 },
 "nbformat": 4,
 "nbformat_minor": 5
}
